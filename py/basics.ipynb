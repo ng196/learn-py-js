{
 "cells": [
  {
   "cell_type": "markdown",
   "metadata": {},
   "source": [
    "Basics\n"
   ]
  },
  {
   "cell_type": "code",
   "execution_count": 4,
   "metadata": {},
   "outputs": [
    {
     "name": "stdout",
     "output_type": "stream",
     "text": [
      "helo\n"
     ]
    }
   ],
   "source": [
    "age = int(input(\"enter age\"))\n",
    "if age<0 :\n",
    "    print(\"helo\")\n",
    "else:\n",
    "    print(\"lbitch \")"
   ]
  },
  {
   "cell_type": "code",
   "execution_count": 5,
   "metadata": {},
   "outputs": [
    {
     "name": "stdout",
     "output_type": "stream",
     "text": [
      "number is divisable by 3 but not 2 \n"
     ]
    }
   ],
   "source": [
    "# check if a number is divisable by 2 and 3 \n",
    "# ternary operator :  value_if_true if condition else value_if_false\n",
    "num = int(input(\"Enter a number: \"))\n",
    "\n",
    "if num % 2 == 0:\n",
    "    print(\"Number is divisible by 2 and 3 both\") if num % 3 == 0 else print(\"Number is divisible by 2 but not 3\")\n",
    "else:\n",
    "    print(\"Number is divisible by 3 but not 2\") if num % 3 == 0 else print(\"Number is not divisible by 2 and 3 both\")\n"
   ]
  },
  {
   "cell_type": "code",
   "execution_count": null,
   "metadata": {},
   "outputs": [],
   "source": [
    "# loops \n",
    "\n",
    "dict = {\"name\":\"nitin\" , \"age\":18}\n",
    "\n",
    "for key , value in dict.items():\n",
    "    print(f\"the value of {key} is {value}\")\n",
    "    \n",
    "i= 0 \n",
    "while i<4 :\n",
    "    print(\"hello\")\n",
    "    i+=1\n",
    "  "
   ]
  },
  {
   "cell_type": "markdown",
   "metadata": {},
   "source": [
    "STRING"
   ]
  },
  {
   "cell_type": "code",
   "execution_count": 13,
   "metadata": {},
   "outputs": [
    {
     "name": "stdout",
     "output_type": "stream",
     "text": [
      "1100\n"
     ]
    }
   ],
   "source": [
    "# making a string \n",
    "\n",
    "# first_name = str(input(\"first name?\"))\n",
    "# last_name =  str(input(\"last name?\"))\n",
    "\n",
    "# print(f\"your full name is {first_name} {last_name}\") # string interpolation \n",
    "\n",
    "ARandomNumber = str(555+445) \n",
    "\n",
    "print(int(ARandomNumber) + 100)\n",
    "\n"
   ]
  },
  {
   "cell_type": "code",
   "execution_count": null,
   "metadata": {},
   "outputs": [],
   "source": [
    "# string methods \n",
    "\n",
    "name = \"nitin goyal\"\n",
    "\n",
    "print(name.count(\"n\")) # 2 \n",
    "print(name.find(\"iti\")) # 1 \n",
    "print(name.index(\"n\")) # 0\n",
    "print(name.count(\"i\")) # 2\n",
    "\n",
    "p_s_str = \"please give me 1000 rupees\"\n",
    "\n",
    "# extract the amount from it \n",
    "\n",
    "import re\n",
    "\n",
    "str1 = re.split(r\"[, .]\" , p_s_str)\n",
    "\n",
    "lst = list()\n",
    "\n",
    "for i in str1:\n",
    "    if i.isdigit():\n",
    "        print(i)\n",
    "        lst.append(int(i))\n",
    "        \n",
    "print(lst)\n",
    "\n",
    "\n"
   ]
  },
  {
   "cell_type": "markdown",
   "metadata": {},
   "source": [
    "arrays , lists , tupples , dictionaries"
   ]
  },
  {
   "cell_type": "code",
   "execution_count": 50,
   "metadata": {},
   "outputs": [
    {
     "name": "stdout",
     "output_type": "stream",
     "text": [
      "['give ', 'me ', 1000, ' rupees']\n",
      "['me ', 1100, ' rupees', 'in india ']\n"
     ]
    }
   ],
   "source": [
    "my_list = [\"give \" , \"me \" , 1000 , \" rupees\"]\n",
    "\n",
    "print(my_list)\n",
    "\n",
    "my_list[2] = 1100  # muttable\n",
    "\n",
    "my_list.append(\"in india \")\n",
    "my_list.pop(0)\n",
    "print(my_list)"
   ]
  },
  {
   "cell_type": "code",
   "execution_count": 1,
   "metadata": {},
   "outputs": [],
   "source": [
    "my_tuple = (\"nitin goyal \" , 18 , 0.00 , )\n"
   ]
  },
  {
   "cell_type": "code",
   "execution_count": 8,
   "metadata": {},
   "outputs": [
    {
     "name": "stdout",
     "output_type": "stream",
     "text": [
      "[23]\n",
      "[23, 'nitin']\n"
     ]
    }
   ],
   "source": [
    "array =  []\n",
    "\n",
    "array.append(23)\n",
    "print(array)\n",
    "array.append('nitin')\n",
    "print(array)"
   ]
  }
 ],
 "metadata": {
  "kernelspec": {
   "display_name": "Python 3",
   "language": "python",
   "name": "python3"
  },
  "language_info": {
   "codemirror_mode": {
    "name": "ipython",
    "version": 3
   },
   "file_extension": ".py",
   "mimetype": "text/x-python",
   "name": "python",
   "nbconvert_exporter": "python",
   "pygments_lexer": "ipython3",
   "version": "3.10.12"
  }
 },
 "nbformat": 4,
 "nbformat_minor": 2
}
